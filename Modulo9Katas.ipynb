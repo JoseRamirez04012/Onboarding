{
  "cells": [
    {
      "cell_type": "markdown",
      "metadata": {},
      "source": [
        "# Ejercicio: Uso de funciones en Python"
      ]
    },
    {
      "cell_type": "markdown",
      "metadata": {},
      "source": [
        "### Ejercicio 1: Trabajar con argumentos en funciones\n",
        "\n",
        "Los argumentos requeridos en las funciones se utilizan cuando las funciones necesitan que esos argumentos funcionen correctamente. En este ejercicio, construirás un informe de combustible que requiere información de varias ubicaciones de combustible en todo el cohete.\n",
        "\n"
      ]
    },
    {
      "cell_type": "markdown",
      "metadata": {},
      "source": [
        "> **TIP**\n",
        "> Dedica unos minutos para tratar de encontrar una solución. Luego desplázate hacia abajo hasta la parte inferior para ver si has logrado compilar el programa de acuerdo con las especificaciones\n",
        "\n",
        "Comienza por crear una función que necesite tres lecturas de combustible y devuelva un informe:"
      ]
    },
    {
      "cell_type": "code",
      "execution_count": 1,
      "metadata": {},
      "outputs": [],
      "source": [
        "# Función para leer 3 tanques de combustible y muestre el promedio\n",
        "def fuel_report(main_tank, external_tank, hydrogen_tank) :\n",
        "    average = (main_tank + external_tank + hydrogen_tank) / 3\n",
        "    return f\"\"\"Fuel Report:\n",
        "    Total Average: {average}%\n",
        "    Main tank: {main_tank}%\n",
        "    External tank: {external_tank}%\n",
        "    Hydrogen tank: {hydrogen_tank}% \n",
        "    \"\"\"\n",
        "    \n",
        "    "
      ]
    },
    {
      "cell_type": "markdown",
      "metadata": {},
      "source": [
        "Ahora que hemos definido la función de informes, vamos a comprobarlo. Para esta misión, los tanques no están llenos:"
      ]
    },
    {
      "cell_type": "code",
      "execution_count": 2,
      "metadata": {},
      "outputs": [
        {
          "name": "stdout",
          "output_type": "stream",
          "text": [
            "Fuel Report:\n",
            "    Total Average: 43.333333333333336%\n",
            "    Main tank: 50%\n",
            "    External tank: 70%\n",
            "    Hydrogen tank: 10% \n",
            "    \n"
          ]
        }
      ],
      "source": [
        "\n",
        "# Llamamos a la función que genera el reporte print(funcion(tanque1, tanque2, tanque3))\n",
        "print(fuel_report(50,70,10))"
      ]
    },
    {
      "cell_type": "markdown",
      "metadata": {},
      "source": [
        "En lugar de simplemente crear el informe, la función también está calculando el promedio. Mejora la legibilidad extrayendo el cálculo promedio de la función en una nueva función para que el promedio se pueda hacer de forma independiente:"
      ]
    },
    {
      "cell_type": "code",
      "execution_count": 3,
      "metadata": {},
      "outputs": [
        {
          "name": "stdout",
          "output_type": "stream",
          "text": [
            "43.333333333333336\n"
          ]
        }
      ],
      "source": [
        "# Función promedio \n",
        "def average(values) :\n",
        "    total = sum(values)\n",
        "    number_of_items = len(values)\n",
        "    return total / number_of_items\n",
        "\n",
        "print(average([50,70,10]))\n",
        "    "
      ]
    },
    {
      "cell_type": "markdown",
      "metadata": {},
      "source": [
        "Ahora actualiza la función de informes para llamando a la nueva función del promedio:\n"
      ]
    },
    {
      "cell_type": "code",
      "execution_count": 4,
      "metadata": {},
      "outputs": [
        {
          "name": "stdout",
          "output_type": "stream",
          "text": [
            "Fuel Report:\n",
            "    Total Average: 43.333333333333336%\n",
            "    Main tank: 50%\n",
            "    External tank: 70%\n",
            "    Hydrogen tank: 10% \n",
            "    \n"
          ]
        }
      ],
      "source": [
        "# Actualiza la función\n",
        "def fuel_report(main_tank, external_tank, hydrogen_tank) :\n",
        "    return f\"\"\"Fuel Report:\n",
        "    Total Average: {average([main_tank, external_tank, hydrogen_tank])}%\n",
        "    Main tank: {main_tank}%\n",
        "    External tank: {external_tank}%\n",
        "    Hydrogen tank: {hydrogen_tank}% \n",
        "    \"\"\"\n",
        "print(fuel_report(50,70,10))"
      ]
    },
    {
      "cell_type": "markdown",
      "metadata": {},
      "source": [
        "> Recuerda: Lo importante es intentarlo, puedes auxiliarte de internet, libros, etc. El objetivo de una kata es la comprobación de la comprensión de la lección y su aplicación inmediata a la resolución de problemas. Go for it!"
      ]
    },
    {
      "cell_type": "markdown",
      "metadata": {},
      "source": [
        "## Ejercicio 2: Trabajo con argumentos de palabra clave"
      ]
    },
    {
      "cell_type": "markdown",
      "metadata": {},
      "source": [
        "### Ejercicio : Trabajar con argumentos de palabras clave en funciones\n",
        "En este ejercicio, construirás un informe de cohete que requiere varias piezas de información, como el tiempo hasta el destino, el combustible a la izquierda y el nombre del destino. Comienza por crear una función que creará un informe preciso de la misión:"
      ]
    },
    {
      "cell_type": "code",
      "execution_count": 5,
      "metadata": {},
      "outputs": [
        {
          "name": "stdout",
          "output_type": "stream",
          "text": [
            "\n",
            "    Mission to Moon\n",
            "    Total travel time: 35 minutes\n",
            "    Total fuel left: 130 gallons\n",
            "    \n"
          ]
        }
      ],
      "source": [
        "# Función con un informe preciso de la misión. Considera hora de prelanzamiento, tiempo de vuelo, destino, tanque externo y tanque interno\n",
        "def rocket_report(pre_launch_time, flight_time, destination, external_tank, main_tank) :\n",
        "    return f\"\"\"\n",
        "    Mission to {destination}\n",
        "    Total travel time: {pre_launch_time + flight_time} minutes\n",
        "    Total fuel left: {external_tank + main_tank} gallons\n",
        "    \"\"\"\n",
        "\n",
        "print(rocket_report(10, 25, \"Moon\", 50 , 80))"
      ]
    },
    {
      "cell_type": "markdown",
      "metadata": {},
      "source": [
        "La función es problemática porque no se puede adaptar para minutos adicionales o tanques adicionales de combustible. Hazlo más flexible permitiendo cualquier número de pasos basados en el tiempo y cualquier número de tanques. En lugar de usar `*args` y `**kwargs`, aprovecha el hecho de que puedes usar cualquier nombre que desees. Asegurate que la función sea más legible mediante el uso de nombres de variables que están asociados con las entradas, como `*minutes` y `**fuel_reservoirs`:"
      ]
    },
    {
      "cell_type": "code",
      "execution_count": 6,
      "metadata": {},
      "outputs": [
        {
          "name": "stdout",
          "output_type": "stream",
          "text": [
            "\n",
            "    Mission to Moon\n",
            "    Total travel time: 42 minutes\n",
            "    Total fuel left: 140 gallons\n",
            "    \n"
          ]
        }
      ],
      "source": [
        "# Escribe tu nueva función de reporte considerando lo anterior\n",
        "def rocket_report(destination, *minutes, **fuel_reservoirs ) :\n",
        "    return f\"\"\"\n",
        "    Mission to {destination}\n",
        "    Total travel time: {sum(minutes)} minutes\n",
        "    Total fuel left: {sum(fuel_reservoirs.values())} gallons\n",
        "    \"\"\"\n",
        "\n",
        "print(rocket_report(\"Moon\", 25, 10, 7, main=90, external=50))"
      ]
    },
    {
      "cell_type": "markdown",
      "metadata": {},
      "source": [
        "Debido a que el combustible que queda en los tanques es específico de cada tanque, actualiza la función para usar el nombre de cada tanque en el informe:"
      ]
    },
    {
      "cell_type": "code",
      "execution_count": 7,
      "metadata": {},
      "outputs": [
        {
          "name": "stdout",
          "output_type": "stream",
          "text": [
            "\n",
            "    Mission to Moon\n",
            "    Total travel time: 66 minutes\n",
            "    Total fuel left: 180\n",
            "    main tank --> 100 gallons left\n",
            "external tank --> 80 gallons left\n",
            "\n"
          ]
        }
      ],
      "source": [
        "# Escribe tu nueva función\n",
        "def rocket_report(destination, *minutes, **fuel_reservoirs ) :\n",
        "    mission_information = f\"\"\"\n",
        "    Mission to {destination}\n",
        "    Total travel time: {sum(minutes)} minutes\n",
        "    Total fuel left: {sum(fuel_reservoirs.values())}\n",
        "    \"\"\"\n",
        "    for tank_name, gallons in fuel_reservoirs.items():\n",
        "       mission_information += f\"{tank_name} tank --> {gallons} gallons left\\n\"\n",
        "    return mission_information\n",
        "\n",
        "print(rocket_report(\"Moon\", 25, 11, 30, main=100, external=80))"
      ]
    }
  ],
  "metadata": {
    "interpreter": {
      "hash": "205095b8b86ea82a021a8fc2ffba2b3bc9f8d0be25999901963b225939f75778"
    },
    "kernelspec": {
      "display_name": "Python 3.8.10 64-bit ('tmp': conda)",
      "name": "python3"
    },
    "language_info": {
      "codemirror_mode": {
        "name": "ipython",
        "version": 3
      },
      "file_extension": ".py",
      "mimetype": "text/x-python",
      "name": "python",
      "nbconvert_exporter": "python",
      "pygments_lexer": "ipython3",
      "version": "3.10.2"
    },
    "nteract": {
      "version": "nteract-front-end@1.0.0"
    },
    "orig_nbformat": 4
  },
  "nbformat": 4,
  "nbformat_minor": 2
}
